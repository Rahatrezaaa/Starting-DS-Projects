{
 "cells": [
  {
   "cell_type": "markdown",
   "metadata": {},
   "source": [
    "# Keras- the Happy House\n"
   ]
  },
  {
   "cell_type": "code",
   "execution_count": 1,
   "metadata": {},
   "outputs": [
    {
     "name": "stderr",
     "output_type": "stream",
     "text": [
      "Using TensorFlow backend.\n"
     ]
    }
   ],
   "source": [
    "import numpy as np\n",
    "from keras import layers\n",
    "from keras.layers import Input, Dense, Activation, ZeroPadding2D, BatchNormalization, Flatten, Conv2D\n",
    "from keras.layers import AveragePooling2D, MaxPooling2D, Dropout, GlobalMaxPooling2D, GlobalAveragePooling2D\n",
    "from keras.models import Model\n",
    "from keras.preprocessing import image\n",
    "from keras.utils import layer_utils\n",
    "from keras.utils.data_utils import get_file\n",
    "from keras.applications.imagenet_utils import preprocess_input\n",
    "import pydot\n",
    "from IPython.display import SVG\n",
    "from keras.utils.vis_utils import model_to_dot\n",
    "from keras.utils import plot_model\n",
    "from kt_utils import *\n",
    "\n",
    "import keras.backend as K\n",
    "K.set_image_data_format('channels_last')\n",
    "import matplotlib.pyplot as plt\n",
    "from matplotlib.pyplot import imshow\n",
    "\n",
    "%matplotlib inline"
   ]
  },
  {
   "cell_type": "code",
   "execution_count": 2,
   "metadata": {},
   "outputs": [
    {
     "name": "stdout",
     "output_type": "stream",
     "text": [
      "number of training examples = 600\n",
      "number of test examples = 150\n",
      "X_train shape: (600, 64, 64, 3)\n",
      "Y_train shape: (600, 1)\n",
      "X_test shape: (150, 64, 64, 3)\n",
      "Y_test shape: (150, 1)\n"
     ]
    }
   ],
   "source": [
    "X_train_orig, Y_train_orig, X_test_orig, Y_test_orig, classes = load_dataset()\n",
    "\n",
    "# Normalizing image vectors\n",
    "X_train = X_train_orig/255.\n",
    "X_test = X_test_orig/255.\n",
    "\n",
    "# Reshaping\n",
    "Y_train = Y_train_orig.T\n",
    "Y_test = Y_test_orig.T\n",
    "\n",
    "print (\"number of training examples = \" + str(X_train.shape[0]))\n",
    "print (\"number of test examples = \" + str(X_test.shape[0]))\n",
    "print (\"X_train shape: \" + str(X_train.shape))\n",
    "print (\"Y_train shape: \" + str(Y_train.shape))\n",
    "print (\"X_test shape: \" + str(X_test.shape))\n",
    "print (\"Y_test shape: \" + str(Y_test.shape))"
   ]
  },
  {
   "cell_type": "code",
   "execution_count": 3,
   "metadata": {
    "collapsed": true
   },
   "outputs": [],
   "source": [
    "\n",
    "\n",
    "def HappyModel(input_shape):\n",
    "    \"\"\"\n",
    "    Implementation of the HappyModel.\n",
    "    \n",
    "    Arguments:\n",
    "    input_shape -- shape of the images of the dataset\n",
    "\n",
    "    Returns:\n",
    "    model -- a Model() instance in Keras\n",
    "    \"\"\"\n",
    "    \n",
    "    X_input = Input(input_shape)\n",
    "\n",
    "    # Zero-Padding: pads the border of X_input with zeroes\n",
    "    X = ZeroPadding2D((3, 3))(X_input)\n",
    "\n",
    "    # CONV -> BN -> RELU Block applied to X\n",
    "    X = Conv2D(32, (7, 7), strides = (1, 1), name = 'conv0')(X)\n",
    "    X = BatchNormalization(axis = 3, name = 'bn0')(X)\n",
    "    X = Activation('relu')(X)\n",
    "\n",
    "    # MAXPOOL\n",
    "    X = MaxPooling2D((2, 2), name='max_pool')(X)\n",
    "\n",
    "    # FLATTEN X (means convert it to a vector) + FULLYCONNECTED\n",
    "    X = Flatten()(X)\n",
    "    X = Dense(1, activation='sigmoid', name='fc')(X)\n",
    "\n",
    "    \n",
    "    model = Model(inputs = X_input, outputs = X, name='HappyModel')\n",
    "    \n",
    "   \n",
    "    return model"
   ]
  },
  {
   "cell_type": "code",
   "execution_count": 4,
   "metadata": {
    "collapsed": true
   },
   "outputs": [],
   "source": [
    "\n",
    "happyModel = HappyModel([64,64,3])"
   ]
  },
  {
   "cell_type": "code",
   "execution_count": 5,
   "metadata": {
    "collapsed": true
   },
   "outputs": [],
   "source": [
    "happyModel.compile(optimizer='adam',loss='binary_crossentropy',metrics=['accuracy'])\n"
   ]
  },
  {
   "cell_type": "code",
   "execution_count": 6,
   "metadata": {},
   "outputs": [
    {
     "name": "stdout",
     "output_type": "stream",
     "text": [
      "Epoch 1/40\n",
      "600/600 [==============================] - 12s - loss: 0.8565 - acc: 0.7350    \n",
      "Epoch 2/40\n",
      "600/600 [==============================] - 12s - loss: 0.2449 - acc: 0.9167    \n",
      "Epoch 3/40\n",
      "600/600 [==============================] - 12s - loss: 0.1722 - acc: 0.9350    \n",
      "Epoch 4/40\n",
      "600/600 [==============================] - 12s - loss: 0.1627 - acc: 0.9350    \n",
      "Epoch 5/40\n",
      "600/600 [==============================] - 12s - loss: 0.1152 - acc: 0.9600    \n",
      "Epoch 6/40\n",
      "600/600 [==============================] - 12s - loss: 0.1031 - acc: 0.9717    \n",
      "Epoch 7/40\n",
      "600/600 [==============================] - 12s - loss: 0.1595 - acc: 0.9350    \n",
      "Epoch 8/40\n",
      "600/600 [==============================] - 12s - loss: 0.0754 - acc: 0.9750    \n",
      "Epoch 9/40\n",
      "600/600 [==============================] - 12s - loss: 0.0742 - acc: 0.9800    \n",
      "Epoch 10/40\n",
      "600/600 [==============================] - 12s - loss: 0.0444 - acc: 0.9883    \n",
      "Epoch 11/40\n",
      "600/600 [==============================] - 12s - loss: 0.0608 - acc: 0.9767    \n",
      "Epoch 12/40\n",
      "600/600 [==============================] - 12s - loss: 0.0606 - acc: 0.9750    \n",
      "Epoch 13/40\n",
      "600/600 [==============================] - 12s - loss: 0.0477 - acc: 0.9833    \n",
      "Epoch 14/40\n",
      "600/600 [==============================] - 12s - loss: 0.0546 - acc: 0.9850    \n",
      "Epoch 15/40\n",
      "600/600 [==============================] - 13s - loss: 0.0504 - acc: 0.9850    \n",
      "Epoch 16/40\n",
      "600/600 [==============================] - 12s - loss: 0.0397 - acc: 0.9783    \n",
      "Epoch 17/40\n",
      "600/600 [==============================] - 12s - loss: 0.0553 - acc: 0.9800    \n",
      "Epoch 18/40\n",
      "600/600 [==============================] - 12s - loss: 0.0370 - acc: 0.9850    \n",
      "Epoch 19/40\n",
      "600/600 [==============================] - 12s - loss: 0.1543 - acc: 0.9433    \n",
      "Epoch 20/40\n",
      "600/600 [==============================] - 12s - loss: 0.1529 - acc: 0.9550    \n",
      "Epoch 21/40\n",
      "600/600 [==============================] - 12s - loss: 0.0479 - acc: 0.9850    \n",
      "Epoch 22/40\n",
      "600/600 [==============================] - 12s - loss: 0.0750 - acc: 0.9783    \n",
      "Epoch 23/40\n",
      "600/600 [==============================] - 12s - loss: 0.0482 - acc: 0.9817    \n",
      "Epoch 24/40\n",
      "600/600 [==============================] - 12s - loss: 0.1633 - acc: 0.9583    \n",
      "Epoch 25/40\n",
      "600/600 [==============================] - 12s - loss: 0.4255 - acc: 0.9000    \n",
      "Epoch 26/40\n",
      "600/600 [==============================] - 12s - loss: 0.0761 - acc: 0.9800    \n",
      "Epoch 27/40\n",
      "600/600 [==============================] - 12s - loss: 0.0708 - acc: 0.9867    \n",
      "Epoch 28/40\n",
      "600/600 [==============================] - 12s - loss: 0.0346 - acc: 0.9917    \n",
      "Epoch 29/40\n",
      "600/600 [==============================] - 12s - loss: 0.0475 - acc: 0.9850    \n",
      "Epoch 30/40\n",
      "600/600 [==============================] - 12s - loss: 0.0321 - acc: 0.9900    \n",
      "Epoch 31/40\n",
      "600/600 [==============================] - 12s - loss: 0.0384 - acc: 0.9917    \n",
      "Epoch 32/40\n",
      "600/600 [==============================] - 12s - loss: 0.0403 - acc: 0.9850    \n",
      "Epoch 33/40\n",
      "600/600 [==============================] - 12s - loss: 0.0653 - acc: 0.9817    \n",
      "Epoch 34/40\n",
      "600/600 [==============================] - 12s - loss: 0.0264 - acc: 0.9900    \n",
      "Epoch 35/40\n",
      "600/600 [==============================] - 12s - loss: 0.0167 - acc: 0.9950    \n",
      "Epoch 36/40\n",
      "600/600 [==============================] - 12s - loss: 0.0350 - acc: 0.9883    \n",
      "Epoch 37/40\n",
      "600/600 [==============================] - 12s - loss: 0.0309 - acc: 0.9883    \n",
      "Epoch 38/40\n",
      "600/600 [==============================] - 12s - loss: 0.1914 - acc: 0.9433    \n",
      "Epoch 39/40\n",
      "600/600 [==============================] - 12s - loss: 0.0326 - acc: 0.9883    \n",
      "Epoch 40/40\n",
      "600/600 [==============================] - 12s - loss: 0.0627 - acc: 0.9750    \n"
     ]
    },
    {
     "data": {
      "text/plain": [
       "<keras.callbacks.History at 0x7f45d983dfd0>"
      ]
     },
     "execution_count": 6,
     "metadata": {},
     "output_type": "execute_result"
    }
   ],
   "source": [
    "happyModel.fit(x=X_train,y=Y_train,epochs=40,batch_size=16)"
   ]
  },
  {
   "cell_type": "code",
   "execution_count": 7,
   "metadata": {
    "scrolled": true
   },
   "outputs": [
    {
     "name": "stdout",
     "output_type": "stream",
     "text": [
      "150/150 [==============================] - 1s     \n",
      "\n",
      "Loss = 0.249986527761\n",
      "Test Accuracy = 0.92666667064\n"
     ]
    }
   ],
   "source": [
    "preds = happyModel.evaluate(X_test,Y_test)\n",
    "print()\n",
    "print (\"Loss = \" + str(preds[0]))\n",
    "print (\"Test Accuracy = \" + str(preds[1]))"
   ]
  },
  {
   "cell_type": "markdown",
   "metadata": {},
   "source": [
    "it should be observed much better than random-guessing (50%) accuracy on the train and test sets.\n",
    "\n",
    "To give  a point of comparison, our model gets around **95% test accuracy in 40 epochs** (and 99% train accuracy) with a mini batch size of 16 and \"adam\" optimizer. \n"
   ]
  },
  {
   "cell_type": "code",
   "execution_count": null,
   "metadata": {
    "collapsed": true
   },
   "outputs": [],
   "source": [
    "img_path = 'images/my_image.jpg'\n",
    "\n",
    "img = image.load_img(img_path, target_size=(64, 64))\n",
    "imshow(img)\n",
    "\n",
    "x = image.img_to_array(img)\n",
    "x = np.expand_dims(x, axis=0)\n",
    "x = preprocess_input(x)\n",
    "\n",
    "print(happyModel.predict(x))"
   ]
  },
  {
   "cell_type": "code",
   "execution_count": null,
   "metadata": {
    "collapsed": true,
    "scrolled": false
   },
   "outputs": [],
   "source": [
    "happyModel.summary()"
   ]
  },
  {
   "cell_type": "code",
   "execution_count": null,
   "metadata": {
    "collapsed": true
   },
   "outputs": [],
   "source": [
    "plot_model(happyModel, to_file='HappyModel.png')\n",
    "SVG(model_to_dot(happyModel).create(prog='dot', format='svg'))"
   ]
  }
 ],
 "metadata": {
  "kernelspec": {
   "display_name": "Python 3",
   "language": "python",
   "name": "python3"
  },
  "language_info": {
   "codemirror_mode": {
    "name": "ipython",
    "version": 3
   },
   "file_extension": ".py",
   "mimetype": "text/x-python",
   "name": "python",
   "nbconvert_exporter": "python",
   "pygments_lexer": "ipython3",
   "version": "3.6.0"
  }
 },
 "nbformat": 4,
 "nbformat_minor": 2
}
